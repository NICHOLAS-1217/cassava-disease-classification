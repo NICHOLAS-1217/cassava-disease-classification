{
 "cells": [
  {
   "cell_type": "code",
   "execution_count": 1,
   "metadata": {},
   "outputs": [],
   "source": [
    "import tensorflow as tf\n",
    "from tensorflow.keras import layers # type: ignore\n",
    "from tensorflow.keras.preprocessing.image import ImageDataGenerator # type: ignore\n",
    "from keras.callbacks import EarlyStopping\n",
    "\n",
    "import numpy as np\n",
    "import os\n",
    "import matplotlib.pyplot as plt\n",
    "import datetime"
   ]
  },
  {
   "cell_type": "code",
   "execution_count": 2,
   "metadata": {},
   "outputs": [],
   "source": [
    "%load_ext tensorboard"
   ]
  },
  {
   "cell_type": "code",
   "execution_count": 3,
   "metadata": {},
   "outputs": [],
   "source": [
    "image_size = 224\n",
    "batch_size = 16"
   ]
  },
  {
   "cell_type": "code",
   "execution_count": 4,
   "metadata": {},
   "outputs": [],
   "source": [
    "train_folder = \"../../datasets/data_vipr/masked_3/train\"\n",
    "test_folder = \"../../datasets/data_vipr/masked_3/test\""
   ]
  },
  {
   "cell_type": "code",
   "execution_count": 5,
   "metadata": {},
   "outputs": [
    {
     "name": "stdout",
     "output_type": "stream",
     "text": [
      "Found 17117 files belonging to 5 classes.\n"
     ]
    }
   ],
   "source": [
    "dataset= tf.keras.utils.image_dataset_from_directory(\n",
    "  \"../../datasets/data_vipr/masked_3/train\",\n",
    "  seed=123,\n",
    "  image_size=(image_size, image_size),\n",
    "  batch_size=batch_size\n",
    ")"
   ]
  },
  {
   "cell_type": "code",
   "execution_count": 6,
   "metadata": {},
   "outputs": [],
   "source": [
    "train_datagen = ImageDataGenerator(\n",
    "   rescale=1./255,\n",
    "   shear_range=0.2,\n",
    "   zoom_range=0.2,\n",
    "   horizontal_flip=True\n",
    ")"
   ]
  },
  {
   "cell_type": "code",
   "execution_count": 7,
   "metadata": {},
   "outputs": [],
   "source": [
    "test_datagen = ImageDataGenerator(rescale=1./255)"
   ]
  },
  {
   "cell_type": "code",
   "execution_count": 8,
   "metadata": {},
   "outputs": [
    {
     "name": "stdout",
     "output_type": "stream",
     "text": [
      "Found 17117 images belonging to 5 classes.\n"
     ]
    }
   ],
   "source": [
    "train_generator = train_datagen.flow_from_directory(\n",
    "   train_folder,\n",
    "   target_size=(image_size, image_size),\n",
    "   batch_size=batch_size,\n",
    "   class_mode='categorical',\n",
    "   color_mode='rgb',\n",
    "   shuffle=True\n",
    ")"
   ]
  },
  {
   "cell_type": "code",
   "execution_count": 9,
   "metadata": {},
   "outputs": [
    {
     "name": "stdout",
     "output_type": "stream",
     "text": [
      "Found 4280 images belonging to 5 classes.\n"
     ]
    }
   ],
   "source": [
    "test_generator = test_datagen.flow_from_directory(\n",
    "   test_folder,\n",
    "   target_size=(image_size, image_size),\n",
    "   batch_size=batch_size,\n",
    "   class_mode='categorical',\n",
    "   color_mode='rgb'\n",
    ")"
   ]
  },
  {
   "cell_type": "code",
   "execution_count": 10,
   "metadata": {},
   "outputs": [
    {
     "name": "stdout",
     "output_type": "stream",
     "text": [
      "['CBB', 'CBSD', 'CGM', 'CMD', 'Healthy']\n"
     ]
    }
   ],
   "source": [
    "class_names = dataset.class_names\n",
    "print(class_names)"
   ]
  },
  {
   "cell_type": "code",
   "execution_count": 11,
   "metadata": {},
   "outputs": [],
   "source": [
    "base_model = tf.keras.applications.EfficientNetV2S(\n",
    "   weights='imagenet',\n",
    "   input_shape=(image_size, image_size, 3),\n",
    "   include_top=False\n",
    ")"
   ]
  },
  {
   "cell_type": "code",
   "execution_count": 12,
   "metadata": {},
   "outputs": [],
   "source": [
    "base_model.trainable = True"
   ]
  },
  {
   "cell_type": "code",
   "execution_count": 13,
   "metadata": {},
   "outputs": [],
   "source": [
    "model = tf.keras.Sequential([\n",
    "   base_model,\n",
    "   layers.GlobalAveragePooling2D(),\n",
    "   layers.Dense(1024, activation='relu'),\n",
    "   layers.Dropout(0.5),\n",
    "   layers.Dense(len(class_names), activation='softmax'),\n",
    "])"
   ]
  },
  {
   "cell_type": "code",
   "execution_count": 14,
   "metadata": {},
   "outputs": [],
   "source": [
    "from tensorflow.keras.optimizers import Adam\n",
    "adam_opt = Adam(learning_rate=0.0001)\n",
    "\n",
    "model.compile(\n",
    "   optimizer=adam_opt,\n",
    "   loss='categorical_crossentropy',\n",
    "   metrics=['accuracy']\n",
    ")"
   ]
  },
  {
   "cell_type": "code",
   "execution_count": 15,
   "metadata": {},
   "outputs": [
    {
     "name": "stdout",
     "output_type": "stream",
     "text": [
      "Model: \"sequential\"\n",
      "_________________________________________________________________\n",
      " Layer (type)                Output Shape              Param #   \n",
      "=================================================================\n",
      " efficientnetv2-s (Functiona  (None, 7, 7, 1280)       20331360  \n",
      " l)                                                              \n",
      "                                                                 \n",
      " global_average_pooling2d (G  (None, 1280)             0         \n",
      " lobalAveragePooling2D)                                          \n",
      "                                                                 \n",
      " dense (Dense)               (None, 1024)              1311744   \n",
      "                                                                 \n",
      " dropout (Dropout)           (None, 1024)              0         \n",
      "                                                                 \n",
      " dense_1 (Dense)             (None, 5)                 5125      \n",
      "                                                                 \n",
      "=================================================================\n",
      "Total params: 21,648,229\n",
      "Trainable params: 21,494,357\n",
      "Non-trainable params: 153,872\n",
      "_________________________________________________________________\n"
     ]
    }
   ],
   "source": [
    "model.summary()"
   ]
  },
  {
   "cell_type": "code",
   "execution_count": 16,
   "metadata": {},
   "outputs": [],
   "source": [
    "epochs = 100"
   ]
  },
  {
   "cell_type": "code",
   "execution_count": 17,
   "metadata": {},
   "outputs": [],
   "source": [
    "log_dir = \"logs/fit/\" + datetime.datetime.now().strftime(\"%Y%m%d-%H%M%S\")\n",
    "tensorboard_callback = tf.keras.callbacks.TensorBoard(log_dir=log_dir, histogram_freq=1)"
   ]
  },
  {
   "cell_type": "code",
   "execution_count": 18,
   "metadata": {},
   "outputs": [
    {
     "name": "stdout",
     "output_type": "stream",
     "text": [
      "Epoch 1/100\n",
      "1070/1070 [==============================] - 279s 239ms/step - loss: 0.6707 - accuracy: 0.7534 - val_loss: 0.4531 - val_accuracy: 0.8421\n",
      "Epoch 2/100\n",
      "1070/1070 [==============================] - 195s 182ms/step - loss: 0.4632 - accuracy: 0.8344 - val_loss: 0.4072 - val_accuracy: 0.8589\n",
      "Epoch 3/100\n",
      "1070/1070 [==============================] - 192s 180ms/step - loss: 0.3804 - accuracy: 0.8655 - val_loss: 0.3737 - val_accuracy: 0.8657\n",
      "Epoch 4/100\n",
      "1070/1070 [==============================] - 191s 179ms/step - loss: 0.3297 - accuracy: 0.8814 - val_loss: 0.3848 - val_accuracy: 0.8692\n",
      "Epoch 5/100\n",
      "1070/1070 [==============================] - 195s 182ms/step - loss: 0.2698 - accuracy: 0.9042 - val_loss: 0.4033 - val_accuracy: 0.8664\n",
      "Epoch 6/100\n",
      "1070/1070 [==============================] - 191s 179ms/step - loss: 0.2286 - accuracy: 0.9179 - val_loss: 0.4116 - val_accuracy: 0.8696\n",
      "Epoch 7/100\n",
      "1070/1070 [==============================] - 191s 178ms/step - loss: 0.1988 - accuracy: 0.9293 - val_loss: 0.4427 - val_accuracy: 0.8689\n",
      "Epoch 8/100\n",
      "1070/1070 [==============================] - 191s 178ms/step - loss: 0.1696 - accuracy: 0.9408 - val_loss: 0.4963 - val_accuracy: 0.8582\n",
      "Epoch 9/100\n",
      "1070/1070 [==============================] - 190s 178ms/step - loss: 0.1457 - accuracy: 0.9484 - val_loss: 0.5179 - val_accuracy: 0.8544\n",
      "Epoch 10/100\n",
      "1070/1070 [==============================] - 190s 178ms/step - loss: 0.1359 - accuracy: 0.9520 - val_loss: 0.4926 - val_accuracy: 0.8706\n",
      "Epoch 11/100\n",
      "1070/1070 [==============================] - 191s 178ms/step - loss: 0.1112 - accuracy: 0.9616 - val_loss: 0.5284 - val_accuracy: 0.8673\n",
      "Epoch 12/100\n",
      "1070/1070 [==============================] - 191s 179ms/step - loss: 0.1018 - accuracy: 0.9632 - val_loss: 0.5268 - val_accuracy: 0.8621\n",
      "Epoch 13/100\n",
      "1070/1070 [==============================] - 190s 177ms/step - loss: 0.0885 - accuracy: 0.9691 - val_loss: 0.5500 - val_accuracy: 0.8682\n"
     ]
    }
   ],
   "source": [
    "history = model.fit(\n",
    "  train_generator,\n",
    "  validation_data=test_generator,\n",
    "  epochs=epochs,\n",
    "  callbacks=[\n",
    "    tensorboard_callback,\n",
    "    EarlyStopping(monitor='val_loss', patience=10)\n",
    "  ]\n",
    ")"
   ]
  },
  {
   "cell_type": "code",
   "execution_count": 19,
   "metadata": {},
   "outputs": [
    {
     "data": {
      "image/png": "[encoded data removed]",
      "text/plain": [
       "<Figure size 640x480 with 1 Axes>"
      ]
     },
     "metadata": {},
     "output_type": "display_data"
    }
   ],
   "source": [
    "plt.plot(history.history['accuracy'], label='train accuracy')\n",
    "plt.plot(history.history['val_accuracy'], label = 'test accuracy')\n",
    "plt.legend()\n",
    "plt.show()"
   ]
  },
  {
   "cell_type": "code",
   "execution_count": 20,
   "metadata": {},
   "outputs": [
    {
     "data": {
      "image/png": "[encoded data removed]",
      "text/plain": [
       "<Figure size 640x480 with 1 Axes>"
      ]
     },
     "metadata": {},
     "output_type": "display_data"
    }
   ],
   "source": [
    "plt.plot(history.history['loss'], label='train loss')\n",
    "plt.plot(history.history['val_loss'], label = 'val loss')\n",
    "plt.legend()\n",
    "plt.show()"
   ]
  },
  {
   "cell_type": "code",
   "execution_count": null,
   "metadata": {},
   "outputs": [],
   "source": [
    "%tensorboard --logdir logs/fit"
   ]
  }
 ],
 "metadata": {
  "kernelspec": {
   "display_name": "cassava",
   "language": "python",
   "name": "python3"
  },
  "language_info": {
   "codemirror_mode": {
    "name": "ipython",
    "version": 3
   },
   "file_extension": ".py",
   "mimetype": "text/x-python",
   "name": "python",
   "nbconvert_exporter": "python",
   "pygments_lexer": "ipython3",
   "version": "3.9.20"
  }
 },
 "nbformat": 4,
 "nbformat_minor": 2
}
