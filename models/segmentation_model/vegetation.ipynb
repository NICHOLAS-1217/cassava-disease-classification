{
 "cells": [
  {
   "cell_type": "code",
   "execution_count": 1,
   "metadata": {},
   "outputs": [
    {
     "ename": "ImportError",
     "evalue": "cannot import name 'utils' from 'unet' (c:\\Users\\nicho\\anaconda3\\envs\\cassava\\lib\\site-packages\\unet\\__init__.py)",
     "output_type": "error",
     "traceback": [
      "\u001b[1;31m---------------------------------------------------------------------------\u001b[0m",
      "\u001b[1;31mImportError\u001b[0m                               Traceback (most recent call last)",
      "Cell \u001b[1;32mIn[1], line 25\u001b[0m\n\u001b[0;32m     22\u001b[0m \u001b[38;5;28;01mfrom\u001b[39;00m \u001b[38;5;21;01mtensorflow\u001b[39;00m\u001b[38;5;21;01m.\u001b[39;00m\u001b[38;5;21;01mkeras\u001b[39;00m\u001b[38;5;21;01m.\u001b[39;00m\u001b[38;5;21;01mlayers\u001b[39;00m \u001b[38;5;28;01mimport\u001b[39;00m BatchNormalization, GlobalAveragePooling2D\n\u001b[0;32m     23\u001b[0m \u001b[38;5;28;01mfrom\u001b[39;00m \u001b[38;5;21;01mtensorflow\u001b[39;00m\u001b[38;5;21;01m.\u001b[39;00m\u001b[38;5;21;01mkeras\u001b[39;00m\u001b[38;5;21;01m.\u001b[39;00m\u001b[38;5;21;01mcallbacks\u001b[39;00m \u001b[38;5;28;01mimport\u001b[39;00m ModelCheckpoint, ReduceLROnPlateau, EarlyStopping\n\u001b[1;32m---> 25\u001b[0m \u001b[38;5;28;01mfrom\u001b[39;00m \u001b[38;5;21;01munet\u001b[39;00m \u001b[38;5;28;01mimport\u001b[39;00m utils\n\u001b[0;32m     26\u001b[0m \u001b[38;5;28;01mfrom\u001b[39;00m \u001b[38;5;21;01munet\u001b[39;00m\u001b[38;5;21;01m.\u001b[39;00m\u001b[38;5;21;01mdatasets\u001b[39;00m \u001b[38;5;28;01mimport\u001b[39;00m circles\n\u001b[0;32m     27\u001b[0m \u001b[38;5;28;01mimport\u001b[39;00m \u001b[38;5;21;01munet\u001b[39;00m\n",
      "\u001b[1;31mImportError\u001b[0m: cannot import name 'utils' from 'unet' (c:\\Users\\nicho\\anaconda3\\envs\\cassava\\lib\\site-packages\\unet\\__init__.py)"
     ]
    }
   ],
   "source": [
    "import numpy as np\n",
    "import pandas as pd\n",
    "from PIL import Image\n",
    "import os\n",
    "import matplotlib.pyplot as plt\n",
    "import seaborn as sns\n",
    "from tqdm import tqdm\n",
    "from sklearn.utils import shuffle\n",
    "from sklearn.utils import class_weight\n",
    "from sklearn.preprocessing import minmax_scale\n",
    "import random\n",
    "import cv2\n",
    "from imgaug import augmenters as iaa\n",
    "import warnings\n",
    "warnings.filterwarnings('ignore')\n",
    "\n",
    "import tensorflow as tf\n",
    "from tensorflow.keras import layers\n",
    "from tensorflow.keras import Input\n",
    "from tensorflow.keras.models import Model\n",
    "from tensorflow.keras.layers import Dense, Flatten, Dropout, Activation\n",
    "from tensorflow.keras.layers import BatchNormalization, GlobalAveragePooling2D\n",
    "from tensorflow.keras.callbacks import ModelCheckpoint, ReduceLROnPlateau, EarlyStopping\n"
   ]
  },
  {
   "cell_type": "code",
   "execution_count": null,
   "metadata": {},
   "outputs": [],
   "source": [
    "training_folder = '../../datasets/data21k_kaggle/train_images/'\n",
    "samples_df = pd.read_csv(\"../../datasets/data21k_kaggle/train.csv\")\n",
    "samples_df[\"label\"] = samples_df[\"label\"].astype(\"str\")\n",
    "samples_df.head()"
   ]
  },
  {
   "cell_type": "code",
   "execution_count": 12,
   "metadata": {},
   "outputs": [],
   "source": [
    "samples_df = samples_df.query(\"label=='3'\")"
   ]
  },
  {
   "cell_type": "code",
   "execution_count": 13,
   "metadata": {},
   "outputs": [],
   "source": [
    "training_percentage = 0.8\n",
    "training_item_count = int(len(samples_df)*training_percentage)\n",
    "validation_item_count = len(samples_df)-int(len(samples_df)*training_percentage)\n",
    "training_df = samples_df[:training_item_count]\n",
    "validation_df = samples_df[training_item_count:]"
   ]
  },
  {
   "cell_type": "markdown",
   "metadata": {},
   "source": [
    "# Test 2 vegetation indices for RGB images\n",
    "Below, we are implementing functions that return the process vegetation indices:\n",
    "\n",
    "Elliptical Color Index (ECI)  <br/>\n",
    "Color Index Vegetation Extraction (CIVE) "
   ]
  },
  {
   "cell_type": "code",
   "execution_count": 14,
   "metadata": {},
   "outputs": [],
   "source": [
    "def get_ECI_band(img):\n",
    "    '''\n",
    "    Return the ECI band calculated from an RGB image between 0 and 255\n",
    "    using the formula below:    \n",
    "    ECI = (red_channel-1)^2 + green_channel^2/0.16\n",
    "    '''\n",
    "    img = img/255.\n",
    "    img = cv2.GaussianBlur(img,(35,35),0)\n",
    "    ECI_band = np.power(img[:,:,0]-1,2) + np.power(img[:,:,1],2)/0.16\n",
    "    normalized_ECI_band = (ECI_band/ECI_band.max()*255).astype(np.uint8)\n",
    "    return normalized_ECI_band\n",
    "\n",
    "\n",
    "def get_CIVE_band(img):\n",
    "    '''\n",
    "    Return the CIVE band calculated from an RGB image between 0 and 255\n",
    "    using the formula below:\n",
    "    CIVE = 0.441*red_channel - 0.881*green_channel + 0.385*blue_channel + 18.787\n",
    "    '''\n",
    "    img = cv2.GaussianBlur(img,(35,35),0)\n",
    "    CIVE_band = 0.441*img[:,:,0] - 0.881*img[:,:,1] + 0.385*img[:,:,2] + 18.787\n",
    "    normalized_CIVE_band = (((CIVE_band+abs(CIVE_band.min()))/CIVE_band.max())).astype(np.uint8)\n",
    "    return normalized_CIVE_band\n",
    "\n",
    "\n",
    "def apply_ECI_mask(img, vegetation_index_band):\n",
    "    '''\n",
    "    Apply a binary mask on an image and return the masked image\n",
    "    '''\n",
    "    ret, otsu = cv2.threshold(vegetation_index_band,0,255,cv2.THRESH_BINARY+cv2.THRESH_OTSU)\n",
    "    masked_img = cv2.bitwise_and(img,img,mask = otsu)\n",
    "    return masked_img\n",
    "\n",
    "\n",
    "def apply_CIVE_mask(img, vegetation_index_band):\n",
    "    '''\n",
    "    Apply a binary mask on an image and return the masked image\n",
    "    '''\n",
    "    ret, otsu = cv2.threshold(vegetation_index_band,0,255,cv2.THRESH_BINARY_INV+cv2.THRESH_OTSU)\n",
    "    masked_img = cv2.bitwise_and(img,img,mask = otsu)\n",
    "    return masked_img"
   ]
  },
  {
   "cell_type": "code",
   "execution_count": null,
   "metadata": {},
   "outputs": [],
   "source": [
    "plt.figure(figsize=(10, 15))\n",
    "items = 6\n",
    "for idx, image_id in enumerate(samples_df.image_id[:items]):\n",
    "   img_path = training_folder+image_id\n",
    "   img = np.array(Image.open(img_path))\n",
    "   ax = plt.subplot(items, 3, idx*3 + 1)\n",
    "   ax.set_title(\"original\")\n",
    "   plt.axis('off')\n",
    "   plt.imshow(img)\n",
    "   \n",
    "   ECI_band =  get_ECI_band(img)\n",
    "   ax = plt.subplot(items, 3, idx*3 + 2)\n",
    "   ax.set_title(\"ECI band\")\n",
    "   plt.axis('off')\n",
    "   plt.imshow(ECI_band)\n",
    "   \n",
    "   masked_img = apply_ECI_mask(img, ECI_band)\n",
    "   ax = plt.subplot(items, 3, idx*3 + 3)\n",
    "   ax.set_title(\"ECI+Otsu\")\n",
    "   plt.axis('off')\n",
    "   plt.imshow(masked_img)"
   ]
  },
  {
   "cell_type": "code",
   "execution_count": null,
   "metadata": {},
   "outputs": [],
   "source": [
    "plt.figure(figsize=(10, 15))\n",
    "items = 6\n",
    "for idx, image_id in enumerate(samples_df.image_id[:items]):\n",
    "   img_path = training_folder+image_id\n",
    "   img = np.array(Image.open(img_path))\n",
    "   ax = plt.subplot(items, 3, idx*3 + 1)\n",
    "   ax.set_title(\"original\")\n",
    "   plt.axis('off')\n",
    "   plt.imshow(img)\n",
    "   \n",
    "   CIVE_band = get_CIVE_band(img)\n",
    "   ax = plt.subplot(items, 3, idx*3 + 2)\n",
    "   ax.set_title(\"CIVE band\")\n",
    "   plt.axis('off')\n",
    "   plt.imshow(CIVE_band)\n",
    "   \n",
    "   masked_img = apply_CIVE_mask(img, CIVE_band)\n",
    "   ax = plt.subplot(items, 3, idx*3 + 3)\n",
    "   ax.set_title(\"CIVE+Otsu\")\n",
    "   plt.axis('off')\n",
    "   plt.imshow(masked_img)"
   ]
  },
  {
   "cell_type": "code",
   "execution_count": null,
   "metadata": {},
   "outputs": [],
   "source": [
    "plt.figure(figsize=(10, 15))\n",
    "items = 6\n",
    "for idx, image_id in enumerate(samples_df.image_id[10:10+items]):\n",
    "   img_path = training_folder+image_id\n",
    "   img = np.array(Image.open(img_path))\n",
    "   ax = plt.subplot(items, 3, idx*3 + 1)\n",
    "   ax.set_title(\"original\")\n",
    "   plt.axis('off')\n",
    "   plt.imshow(img)\n",
    "   \n",
    "   ECI_band =  get_ECI_band(img)\n",
    "   CIVE_band = get_CIVE_band(img)\n",
    "\n",
    "   masked_img = apply_ECI_mask(img, ECI_band)\n",
    "   ax = plt.subplot(items, 3, idx*3 + 2)\n",
    "   ax.set_title(\"ECI+Otsu\")\n",
    "   plt.axis('off')\n",
    "   plt.imshow(masked_img)\n",
    "   \n",
    "   masked_img = apply_CIVE_mask(img, CIVE_band)\n",
    "   ax = plt.subplot(items, 3, idx*3 + 3)\n",
    "   ax.set_title(\"CIVE+Otsu\")\n",
    "   plt.axis('off')\n",
    "   plt.imshow(masked_img)"
   ]
  },
  {
   "cell_type": "code",
   "execution_count": null,
   "metadata": {},
   "outputs": [],
   "source": []
  }
 ],
 "metadata": {
  "kernelspec": {
   "display_name": "cassava",
   "language": "python",
   "name": "python3"
  },
  "language_info": {
   "codemirror_mode": {
    "name": "ipython",
    "version": 3
   },
   "file_extension": ".py",
   "mimetype": "text/x-python",
   "name": "python",
   "nbconvert_exporter": "python",
   "pygments_lexer": "ipython3",
   "version": "3.9.20"
  }
 },
 "nbformat": 4,
 "nbformat_minor": 2
}
